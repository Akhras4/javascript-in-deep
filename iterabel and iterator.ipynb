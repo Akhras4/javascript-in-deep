{
  "metadata": {
    "kernelspec": {
      "name": "python",
      "display_name": "Python (Pyodide)",
      "language": "python"
    },
    "language_info": {
      "codemirror_mode": {
        "name": "python",
        "version": 3
      },
      "file_extension": ".py",
      "mimetype": "text/x-python",
      "name": "python",
      "nbconvert_exporter": "python",
      "pygments_lexer": "ipython3",
      "version": "3.8"
    }
  },
  "nbformat_minor": 4,
  "nbformat": 4,
  "cells": [
    {
      "cell_type": "code",
      "source": "",
      "metadata": {
        "trusted": true
      },
      "outputs": [],
      "execution_count": null
    },
    {
      "cell_type": "markdown",
      "source": "# iteration protocol\nthere is two of protocole can allow to iteration into the object \n\n1.iterable protocal\n\n2.iterator protocal\n",
      "metadata": {}
    },
    {
      "cell_type": "markdown",
      "source": "# iterabel protocol\nallow javascript objects to define and customize the iteration behavior such as what values are looped over \n\nsome built-in types are buit-in-iterables with default iteration behavior such as Map,Set,Array,(but objects are not).\n\nto the iterable object, you have to implement the @@iterater method that the object must have a prop with key @@iterator\n\n",
      "metadata": {}
    },
    {
      "cell_type": "code",
      "source": "%%js\nconst iterable=[1,2,3]\nconst iterator=iterable[Symbol.iterator]();//\nalert(iterator);",
      "metadata": {
        "trusted": true
      },
      "outputs": [
        {
          "output_type": "display_data",
          "data": {
            "text/plain": "<IPython.core.display.Javascript object>",
            "application/javascript": "const iterable=[1,2,3]\nconst iterator=iterable[Symbol.iterator]();//\nalert(iterator);\n"
          },
          "metadata": {}
        }
      ],
      "execution_count": 9
    },
    {
      "cell_type": "markdown",
      "source": "if u see the result u will notice an alert noting that becose we just setup iterator and the iterator have method next() when i call it will return an object",
      "metadata": {}
    },
    {
      "cell_type": "code",
      "source": "%%js\nconst iterable=[1,2,3]\nconst iterator=iterable[Symbol.iterator]();//\nalert(iterator.next().value);",
      "metadata": {
        "trusted": true
      },
      "outputs": [
        {
          "output_type": "display_data",
          "data": {
            "text/plain": "<IPython.core.display.Javascript object>",
            "application/javascript": "const iterable=[1,2,3]\nconst iterator=iterable[Symbol.iterator]();//\nalert(iterator.next().value);\n"
          },
          "metadata": {}
        }
      ],
      "execution_count": 10
    },
    {
      "cell_type": "markdown",
      "source": "the next method comes back with an object that contains a value and done{value:, done:}\n\nwhen I call the next() it will return the next value and the done will be false until the end of the value then will return undefined and the done will be false",
      "metadata": {}
    },
    {
      "cell_type": "code",
      "source": "%%js\nconst iterable=[1,2,3]\nconst iterator=iterable[Symbol.iterator]();//\nalert(iterator.next().value);\nalert(iterator.next().value);\nalert(iterator.next().value);\nalert(iterator.next().value);",
      "metadata": {
        "trusted": true
      },
      "outputs": [
        {
          "output_type": "display_data",
          "data": {
            "text/plain": "<IPython.core.display.Javascript object>",
            "application/javascript": "const iterable=[1,2,3]\nconst iterator=iterable[Symbol.iterator]();//\nalert(iterator.next().value);\nalert(iterator.next().value);\nalert(iterator.next().value);\nalert(iterator.next().value);\n"
          },
          "metadata": {}
        }
      ],
      "execution_count": 1
    },
    {
      "cell_type": "code",
      "source": "%%js\nconst myiterator={\n     first:0,\n     to:5,\n[Symbol.iterator](){\n    let current=this.first;\n    let last=this.to\nreturn{\n    next(){\n        if (current<=last){\n            return {\n                value: current++,\n                done: false\n            }\n        }else{\n            return{\n            value: undefined,\n             done: true\n              }\n        }\n    }\n    }\n}\n}\nfor (let count of myiterator){\n    alert(count)\n}\nconst iterator=myiterator[Symbol.iterator]()\nalert(iterator.next().value);\nalert(iterator.next().done);\nalert(iterator.next().done);\nalert(iterator.next().done);\nalert(iterator.next().done);\nalert(iterator.next().done);\nalert(iterator.next().done);",
      "metadata": {
        "trusted": true
      },
      "outputs": [
        {
          "output_type": "display_data",
          "data": {
            "text/plain": "<IPython.core.display.Javascript object>",
            "application/javascript": "const myiterator={\n     first:0,\n     to:5,\n[Symbol.iterator](){\n    let current=this.first;\n    let last=this.to\nreturn{\n    next(){\n        if (current<=last){\n            return {\n                value: current++,\n                done: false\n            }\n        }else{\n            return{\n            value: current,\n             done: true\n              }\n        }\n    }\n    }\n}\n}\nfor (let count of myiterator){\n    alert(count)\n}\nconst iterator=myiterator[Symbol.iterator]()\nalert(iterator.next().value);\nalert(iterator.next().done);\nalert(iterator.next().done);\nalert(iterator.next().done);\nalert(iterator.next().done);\nalert(iterator.next().done);\nalert(iterator.next().done);\n"
          },
          "metadata": {}
        }
      ],
      "execution_count": 22
    },
    {
      "cell_type": "markdown",
      "source": "# iterator protocol\n \ndefine a standard way to produce a sequence of values and return value when all values have been generator",
      "metadata": {}
    },
    {
      "cell_type": "code",
      "source": "%%js\nconst myiterator={\n    first:0,\n    to:5,\n    next(){\n        if(this.first<=this.to){\n            return{\n                value:this.first++,\n                done: false\n            }\n        }else{\n            return{\n                 value: undefined,\n                done:true\n            }\n        }\n    }\n}\nconst iterator=myiterator\nalert(iterator.next().value);\nalert(iterator.next().value);\nalert(iterator.next().value);\nalert(iterator.next().value);\nalert(iterator.next().value);\nalert(iterator.next().value);\nalert(iterator.next().value);",
      "metadata": {
        "trusted": true
      },
      "outputs": [
        {
          "output_type": "display_data",
          "data": {
            "text/plain": "<IPython.core.display.Javascript object>",
            "application/javascript": "const myiterator={\n    first:0,\n    to:5,\n    next(){\n        if(this.first<=this.to){\n            return{\n                value:this.first++,\n                done: false\n            }\n        }else{\n            return{\n                 value: undefined,\n                done:true\n            }\n        }\n    }\n}\nconst iterator=myiterator\nalert(iterator.next().value);\nalert(iterator.next().value);\nalert(iterator.next().value);\nalert(iterator.next().value);\nalert(iterator.next().value);\nalert(iterator.next().value);\nalert(iterator.next().value);\n"
          },
          "metadata": {}
        }
      ],
      "execution_count": 34
    },
    {
      "cell_type": "code",
      "source": "%%js\nconst myiterator={\n    item:[1,2,3,4],\n    index:-1,\n    next(){\n    this.index++;\n        if(this.index < this.item.length){\n            return{\n                value:this.item[this.index],\n                done: false\n            }\n        }else{\n            return{\n                 value: undefined,\n                done: true\n            }\n        }\n    }\n}\nconst iterator=myiterator\nalert(iterator.next().value);\nalert(iterator.next().value);\nalert(iterator.next().value);\nalert(iterator.next().value);\nalert(iterator.next().value);\n",
      "metadata": {
        "trusted": true
      },
      "outputs": [
        {
          "output_type": "display_data",
          "data": {
            "text/plain": "<IPython.core.display.Javascript object>",
            "application/javascript": "const myiterator={\n    item:[1,2,3,4],\n    index:-1,\n    next(){\n    this.index++;\n        if(this.index < this.item.length){\n            return{\n                value:this.item[this.index],\n                done: false\n            }\n        }else{\n            return{\n                 value: undefined,\n                done: true\n            }\n        }\n    }\n}\nconst iterator=myiterator\nalert(iterator.next().value);\nalert(iterator.next().value);\nalert(iterator.next().value);\nalert(iterator.next().value);\nalert(iterator.next().value);\n"
          },
          "metadata": {}
        }
      ],
      "execution_count": 44
    },
    {
      "cell_type": "markdown",
      "source": "## diffrents \n\niterable: an object can create an iterator that is used with high-level constructors like loops and spread sequence.\n\niterator: are object provide next method to produce a sequence of values.\n\n\n",
      "metadata": {}
    },
    {
      "cell_type": "markdown",
      "source": "# generator function\n\nThe function* declaration creates a binding of a new generator function to a given name. A generator function can be exited and later re-entered, with its context (variable bindings) saved across re-entrances.\n\n",
      "metadata": {}
    },
    {
      "cell_type": "code",
      "source": "%%js \nfunction* myiterator(){\n       let a = 0;\n       while (true) {\n        const result = yield a;\n        if (result !== undefined) {\n            a += result;\n        }\n        a++;\n    }\n}\nconst iterator=myiterator()\nalert(iterator.next().value);\nalert(iterator.next(6).value);\nalert(iterator.next().value);\nalert(iterator.next().value);\nalert(iterator.return().value);\n",
      "metadata": {
        "trusted": true
      },
      "outputs": [
        {
          "output_type": "display_data",
          "data": {
            "text/plain": "<IPython.core.display.Javascript object>",
            "application/javascript": "function* myiterator(){\n       let a = 0;\n       while (true) {\n        const result = yield a;\n        if (result !== undefined) {\n            a += result;\n        }\n        a++;\n    }\n}\nconst iterator=myiterator()\nalert(iterator.next().value);\nalert(iterator.next(6).value);\nalert(iterator.next().value);\nalert(iterator.next().value);\nalert(iterator.return().value);\n"
          },
          "metadata": {}
        }
      ],
      "execution_count": 22
    },
    {
      "cell_type": "markdown",
      "source": "## async generator function\n\nThe async function* declaration creates a binding of a new async generator function to a given name.\n",
      "metadata": {}
    },
    {
      "cell_type": "code",
      "source": "%%js\nasync function* foo() {\n  yield await Promise.resolve('a');\n  yield await Promise.resolve('b');\n  yield await Promise.resolve('c');\n}\n\nlet str = '';\n\nasync function generate() {\n  for await (const val of foo()) {\n    str = str + val;\n  }\n  alert(str);\n}\n\ngenerate();",
      "metadata": {
        "trusted": true
      },
      "outputs": [
        {
          "output_type": "display_data",
          "data": {
            "text/plain": "<IPython.core.display.Javascript object>",
            "application/javascript": "async function* foo() {\n  yield await Promise.resolve('a');\n  yield await Promise.resolve('b');\n  yield await Promise.resolve('c');\n}\n\nlet str = '';\n\nasync function generate() {\n  for await (const val of foo()) {\n    str = str + val;\n  }\n  alert(str);\n}\n\ngenerate();\n"
          },
          "metadata": {}
        }
      ],
      "execution_count": 24
    },
    {
      "cell_type": "markdown",
      "source": "## Async generator functions always produce promises of results — even when each yield step is synchronous.",
      "metadata": {}
    },
    {
      "cell_type": "code",
      "source": "%%js\nasync function* myGenerator(step) {\n  await new Promise((resolve) => setTimeout(resolve, 10));\n  yield 0;\n  yield step;\n  yield step * 2;\n}\n\nconst gen = myGenerator(2);\ngen\n  .next()\n  .then((res) => {\n    alert(res.value); // { value: 0, done: false }\n    return gen.next();\n  })\n  .then((res) => {\n    alert(res.value); // { value: 2, done: false }\n    return gen.next();\n  })\n  .then((res) => {\n    alert(res.value); // { value: 4, done: false }\n    return gen.next();\n  })\n  .then((res) => {\n    alert(res.value); // { value: undefined, done: true }\n    return gen.next();\n  });",
      "metadata": {
        "trusted": true
      },
      "outputs": [
        {
          "output_type": "display_data",
          "data": {
            "text/plain": "<IPython.core.display.Javascript object>",
            "application/javascript": "async function* myGenerator(step) {\n  await new Promise((resolve) => setTimeout(resolve, 10));\n  yield 0;\n  yield step;\n  yield step * 2;\n}\n\nconst gen = myGenerator(2);\ngen\n  .next()\n  .then((res) => {\n    alert(res.value); // { value: 0, done: false }\n    return gen.next();\n  })\n  .then((res) => {\n    alert(res.value); // { value: 2, done: false }\n    return gen.next();\n  })\n  .then((res) => {\n    alert(res.value); // { value: 4, done: false }\n    return gen.next();\n  })\n  .then((res) => {\n    alert(res.value); // { value: undefined, done: true }\n    return gen.next();\n  });\n"
          },
          "metadata": {}
        }
      ],
      "execution_count": 28
    },
    {
      "cell_type": "markdown",
      "source": "## Using an async generator function to read a series of files\n\nIn this example, we read a series of files and only access its content when requested, using Node's fs/promises module.",
      "metadata": {}
    },
    {
      "cell_type": "code",
      "source": "%%js \nasync function* readFiles(directory) {\n  const files = await fs.readdir(directory);\n  for (const file of files) {\n    const stats = await fs.stat(file);\n    if (stats.isFile()) {\n      yield {\n        name: file,\n        content: await fs.readFile(file, \"utf8\"),\n      };\n    }\n  }\n}\n\nconst files = readFiles(\".\");\nalert((await files.next()).value);\n// Possible output: { name: 'file1.txt', content: '...' }\nalert((await files.next()).value);\n// Possible output: { name: 'file2.txt', content: '...' }",
      "metadata": {
        "trusted": true
      },
      "outputs": [
        {
          "output_type": "display_data",
          "data": {
            "text/plain": "<IPython.core.display.Javascript object>",
            "application/javascript": "async function* readFiles(directory) {\n  const files = await fs.readdir(directory);\n  for (const file of files) {\n    const stats = await fs.stat(file);\n    if (stats.isFile()) {\n      yield {\n        name: file,\n        content: await fs.readFile(file, \"utf8\"),\n      };\n    }\n  }\n}\n\nconst files = readFiles(\".\");\nalert((await files.next()).value);\n// Possible output: { name: 'file1.txt', content: '...' }\nalert((await files.next()).value);\n// Possible output: { name: 'file2.txt', content: '...' }\n"
          },
          "metadata": {}
        }
      ],
      "execution_count": 29
    },
    {
      "cell_type": "code",
      "source": "",
      "metadata": {
        "trusted": true
      },
      "outputs": [],
      "execution_count": null
    }
  ]
}